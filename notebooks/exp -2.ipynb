{
 "cells": [
  {
   "cell_type": "code",
   "execution_count": 1,
   "id": "3a0afb3f",
   "metadata": {},
   "outputs": [],
   "source": [
    "from dotenv import load_dotenv\n",
    "load_dotenv()\n",
    "import os\n",
    "\n",
    "# Load environment variables from .env file\n",
    "load_dotenv()\n",
    "cohere_api_key = os.getenv(\"COHERE_API_KEY\")\n",
    "if not cohere_api_key:\n",
    "    raise ValueError(\"COHERE_API_KEY not found in .env file\")\n"
   ]
  },
  {
   "cell_type": "code",
   "execution_count": 2,
   "id": "a076980d",
   "metadata": {},
   "outputs": [],
   "source": [
    "youtube_vid_id = 'tSrN8eRMEAE'"
   ]
  },
  {
   "cell_type": "code",
   "execution_count": 3,
   "id": "a2ef4d5e",
   "metadata": {},
   "outputs": [],
   "source": [
    "from youtube_transcript_api import YouTubeTranscriptApi\n",
    "\n",
    "fetched_transcript = YouTubeTranscriptApi().fetch(youtube_vid_id, languages=['en'])\n",
    "fetched_transcript_in_raw = fetched_transcript.to_raw_data()"
   ]
  },
  {
   "cell_type": "code",
   "execution_count": 4,
   "id": "18b52392",
   "metadata": {},
   "outputs": [],
   "source": [
    "plain_text = \" \".join(chunk[\"text\"] for chunk in fetched_transcript_in_raw)"
   ]
  },
  {
   "cell_type": "code",
   "execution_count": 5,
   "id": "f9a479c4",
   "metadata": {},
   "outputs": [],
   "source": [
    "from langchain_text_splitters import RecursiveCharacterTextSplitter\n",
    "\n",
    "text_splitter = RecursiveCharacterTextSplitter(\n",
    "    chunk_size=1000,\n",
    "    chunk_overlap=100,\n",
    ")\n",
    "docs = text_splitter.create_documents(texts=[plain_text])"
   ]
  },
  {
   "cell_type": "code",
   "execution_count": 6,
   "id": "e43c65ee",
   "metadata": {},
   "outputs": [],
   "source": [
    "# NOW DEFINE LLM TO USE \n",
    "\n",
    "from langchain_cohere import ChatCohere\n",
    "\n",
    "llm = ChatCohere(\n",
    "    cohere_api_key=cohere_api_key,\n",
    "    model=\"command-a-03-2025\",  # model selection can be changed\n",
    ")\n",
    "\n"
   ]
  },
  {
   "cell_type": "code",
   "execution_count": 7,
   "id": "fa36b519",
   "metadata": {},
   "outputs": [
    {
     "data": {
      "text/plain": [
       "AIMessage(content='AI, or Artificial Intelligence, is the simulation of human intelligence in machines programmed to think, learn, and make decisions autonomously.', additional_kwargs={'id': '6cda0d74-dbbe-4393-bbb8-27aac6daf6ff', 'finish_reason': 'COMPLETE', 'content': 'AI, or Artificial Intelligence, is the simulation of human intelligence in machines programmed to think, learn, and make decisions autonomously.', 'token_count': {'input_tokens': 504.0, 'output_tokens': 28.0}}, response_metadata={'id': '6cda0d74-dbbe-4393-bbb8-27aac6daf6ff', 'finish_reason': 'COMPLETE', 'content': 'AI, or Artificial Intelligence, is the simulation of human intelligence in machines programmed to think, learn, and make decisions autonomously.', 'token_count': {'input_tokens': 504.0, 'output_tokens': 28.0}}, id='run--8c32c887-6858-44ab-b62e-08c57563dba6-0', usage_metadata={'input_tokens': 504, 'output_tokens': 28, 'total_tokens': 532})"
      ]
     },
     "execution_count": 7,
     "metadata": {},
     "output_type": "execute_result"
    }
   ],
   "source": [
    "llm.invoke(\"what is ai , in one 1 sentence\")"
   ]
  },
  {
   "cell_type": "code",
   "execution_count": 8,
   "id": "32a35707",
   "metadata": {},
   "outputs": [],
   "source": [
    "from langchain_huggingface import HuggingFaceEmbeddings\n",
    "\n",
    "embeddings = HuggingFaceEmbeddings( model_name=\"sentence-transformers/all-MiniLM-L6-v2\")"
   ]
  },
  {
   "cell_type": "code",
   "execution_count": 9,
   "id": "6bc37660",
   "metadata": {},
   "outputs": [
    {
     "name": "stdout",
     "output_type": "stream",
     "text": [
      "[0.022974032908678055, 0.10711224377155304, -0.03132135421037674, 0.0007881922065280378, -0.13304010033607483, 0.06074553355574608, 0.012467825785279274, 0.02004380151629448, -0.05797906219959259, -0.05347032472491264, -0.014485558494925499, -0.013868660666048527, 0.06417139619588852, -0.020030349493026733, 0.0028082123026251793, -0.01605246588587761, -0.00022771619842387736, 0.05036063492298126, -0.12954315543174744, 0.014608489349484444]\n"
     ]
    }
   ],
   "source": [
    "text = \"LangChain makes working with LLMs easier.\"\n",
    "embedding_vector = embeddings.embed_query(text)\n",
    "print(embedding_vector[30:50])"
   ]
  },
  {
   "cell_type": "code",
   "execution_count": 10,
   "id": "07159f72",
   "metadata": {},
   "outputs": [],
   "source": [
    "from langchain_community.vectorstores import FAISS\n",
    "\n",
    "vector_store = FAISS.from_documents(docs, embeddings)"
   ]
  },
  {
   "cell_type": "code",
   "execution_count": 11,
   "id": "7711d4f9",
   "metadata": {},
   "outputs": [
    {
     "data": {
      "text/plain": [
       "{0: 'cdf683ab-db56-426e-b678-f1a463a52f9b',\n",
       " 1: 'e0b01735-ae29-44b4-a7a5-d285dcf8651f',\n",
       " 2: '020d11ae-8024-48fa-a1c9-ebcd0bad3737',\n",
       " 3: '9a29e75a-8169-4152-92ce-e9155d3202d0',\n",
       " 4: 'f8c36ed6-c48f-4062-a754-5d46bf0bc6de',\n",
       " 5: 'bf84875e-c276-4581-946f-3a3a6cb10ecd',\n",
       " 6: '093d9fb0-d8f8-4651-940e-bfa63206bda7',\n",
       " 7: '0d525e44-c4b5-471d-9f3d-1b7a97248002',\n",
       " 8: 'b3212208-299f-4a0e-ac75-07852a0cf9d3',\n",
       " 9: '75778185-9537-404b-bdfb-b0df4631c601',\n",
       " 10: 'f94d71f2-fa93-4a6b-8b04-6f3c423c53a8',\n",
       " 11: 'ad657e02-2a59-4e93-a79a-5f61b756e6d5',\n",
       " 12: '62df98fd-ed95-4fd4-b467-e9a222ad6531',\n",
       " 13: '87d318b2-cc40-49c0-afb6-6f91d2f09b60',\n",
       " 14: '547aef3b-b527-4cc1-b0df-d6a99b2dd16c',\n",
       " 15: '583d7077-ba37-45a4-8aff-ebbdc66a7323',\n",
       " 16: 'df139815-1e51-4c12-8374-5e5a441c7dd0',\n",
       " 17: '306aab1c-e0fe-4d7a-ab56-27939bf77b47',\n",
       " 18: '4850a7a6-28ef-4f1a-b871-658f0cec2e77',\n",
       " 19: 'ed251691-01b9-4b66-bc6e-21bec5076ec9',\n",
       " 20: '7ac76e9b-a34a-4ddc-8b20-a967ed84ca04',\n",
       " 21: '7690fb61-1a8e-40f5-9e1f-82c99a672d4a',\n",
       " 22: 'a540f1f9-9c08-4742-b4a2-70f2c07065cb',\n",
       " 23: '598418ee-4b5f-492f-a3ba-ac21cc181947',\n",
       " 24: '7d632d7a-fbff-4c1e-afd7-e61b718c2998',\n",
       " 25: 'd2c8ecd8-12cd-42ab-aa87-6d08318ce494',\n",
       " 26: '7b03d1eb-e796-49f2-8ae8-70c19f053082',\n",
       " 27: 'c0554155-2630-44a1-92b9-6469f77644c0',\n",
       " 28: 'd6f1f2a4-f65a-4640-89dc-617cc8792459',\n",
       " 29: '8239baf9-5997-43bc-9041-30c7b58c801e',\n",
       " 30: 'cc37d98c-6775-4f54-bad4-7f1481dc3d9d',\n",
       " 31: 'c5909102-9821-4837-8662-51710130b0c4',\n",
       " 32: '69c03084-076d-406d-8e6f-9d533a89a2ca',\n",
       " 33: 'f4db28a0-b8bc-4889-9fff-71107d492971',\n",
       " 34: '3059e934-3768-4a55-a2e0-60bfd06bf01a',\n",
       " 35: 'd488573c-0bb1-4424-958c-9e4ed8c443e4',\n",
       " 36: '2afa21e6-4938-4685-81c4-a6eae19859ef',\n",
       " 37: 'fd0aaf8b-3cbd-49b6-b7b9-4e3294c1fa35',\n",
       " 38: '951a2714-bfde-4d81-bbdf-8b11e93d9024',\n",
       " 39: 'bc55bda2-3d24-4a18-a705-4b2df2e10025',\n",
       " 40: '9ee2d140-a7b6-4f54-b35c-3d81114232e1',\n",
       " 41: '6636deb1-2d41-49a0-ab1e-c55f5166100b',\n",
       " 42: 'aa501a14-3f75-4082-af02-077c180e1b0c',\n",
       " 43: '33c791c0-b89b-46ac-a74d-48c9509b7ba8',\n",
       " 44: 'be7d59b3-26a0-4871-921d-c50b5c723427',\n",
       " 45: '66f85066-48d7-456c-a6b1-b84d13cdb3c4',\n",
       " 46: '0fa938dd-62f0-4857-9e34-9cad5dd37026',\n",
       " 47: '8b09fceb-2748-4dbe-8d05-efda88e52697',\n",
       " 48: '4edbe915-2eed-4cee-822f-f1b66c79be98',\n",
       " 49: 'ed964830-6755-433c-ae88-9c450b5121c0',\n",
       " 50: '8ebd527a-673b-4eeb-8f2a-001c1d42ca40',\n",
       " 51: '29a631b9-12ee-48c1-ab59-b59ffddb0bf8',\n",
       " 52: 'eead23cf-87a6-4f32-88d3-48840a26e2ec',\n",
       " 53: '8cce5cbf-5422-46df-bb26-fe8cbe68f3a9',\n",
       " 54: 'cfa13da4-4087-40b0-b400-e546c659c4fc',\n",
       " 55: '36e7ab66-0f33-4eb8-a9b7-ee3097564bd8',\n",
       " 56: '6884bd32-c9ae-481a-a526-d4369d7ca17e',\n",
       " 57: '8b83003f-40a5-484e-b2f3-cc143b2baf1f',\n",
       " 58: '77dddff1-b401-479b-a5d8-29fa92476e8c',\n",
       " 59: 'c157a9e4-2c80-403b-a94f-7e92ce8bf2b8',\n",
       " 60: '207f8f43-ca3a-468c-bef3-5f0f2cb2f386',\n",
       " 61: '68baa285-d5b6-43dd-afbf-6759853a626f',\n",
       " 62: 'b0fd947a-5756-40f2-a0b8-1ffdea0af652',\n",
       " 63: 'd4918421-a7f4-42d7-a775-363137bf9c7c'}"
      ]
     },
     "execution_count": 11,
     "metadata": {},
     "output_type": "execute_result"
    }
   ],
   "source": [
    "vector_store.index_to_docstore_id"
   ]
  },
  {
   "cell_type": "code",
   "execution_count": 12,
   "id": "58f0e6ca",
   "metadata": {},
   "outputs": [
    {
     "data": {
      "text/plain": [
       "[Document(id='b0fd947a-5756-40f2-a0b8-1ffdea0af652', metadata={}, page_content=\"a number one, be someone's number two. When I did two years working for this mentor of mine, I just picked up so much. And then I I left at 21. I started my first company when I was 21. We did 1.3 million in the first 12 months. We did 11 million in uh year three. But there's no way I could have gotten off to a fast start if I hadn't have done two years under the wing of a of an experienced entrepreneur. So like whatever your passion is, let's say it's a passion for AI, if you're listening to something like this, then go bring that passion to an experienced entrepreneur and the value exchange is that you're bringing a passion for AI. They're bringing 20, 30 years worth of experience running businesses. So see if you can be a direct report to an entrepreneur first for one to two years. The three things that you want out of that apprenticeship. Self-awareness where you start to discover your strengths and weaknesses. Commercial awareness where you understand how you actually take a\"),\n",
       " Document(id='cdf683ab-db56-426e-b678-f1a463a52f9b', metadata={}, page_content=\"AI over the next five years will probably massively decimate wages and that is because there are always these jobs that are repetitive, functional, annoying, frustrating jobs that we can actually replace. >> Named UK entrepreneur of the year, Daniel Brie has built and scaled multi-million dollar businesses worldwide, generating more than $10 million in revenue. In recent years, he has successfully turned some of them into AIdriven ventures. Today he reveals how AI can give you the edge in a world where jobs are disappearing. We dive into the future work. How to protect your career, stay ahead of automation, and use AI as your unfair advantage. >> There's more money than ever before. There's more opportunities than ever before. So, in theory, it should be the easiest time. The reason it's not the easiest time is because our schooling system is rooted in the industrial age and it's built around getting people ready for factories and offices that no longer exist really. Now, all the\"),\n",
       " Document(id='87d318b2-cc40-49c0-afb6-6f91d2f09b60', metadata={}, page_content=\"a country where you can live pretty large on half the price. >> Yeah. Where do you see the biggest opportunities lie for these people? Maybe the markets that you feel like have these problems like you come and you just make money. Look, >> every industry is going through massive transformation. And in the next 5 years, we're going to see every single industry wanting to upskill uh around AI. They're going to want to disrupt themselves or be disrupted. Um they're going to want to add new elements to their business. Every business is going to want to try and build community. They're going to want to become a more of a media business. uh they're going to want to use AI in their hiring process and in their operational process. They're going to want to put more AI into their marketing uh efforts. The opportunities really are everywhere. Like you couldn't ask for a time like this is a time of massive transformation. But the issue is is that we need to be able to see what is the game that's\"),\n",
       " Document(id='9a29e75a-8169-4152-92ce-e9155d3202d0', metadata={}, page_content=\"land into the city. Now, what's happening at the moment is that everyone feels this pull to be more entrepreneurial. It's like something is pulling me that I have to have a plural career. I've got to be doing a podcast. I've got to be speaking. I've got to be doing a startup. I've got to join a board. I've got to um you know, read the latest entrepreneur books. And it's like, hey, wait a second. When I grew up, everyone said you just have to have a normal career and work for one company. >> But we're feeling the pull towards entrepreneurship. >> So, the thing about AI especially is that it does a lot of automation. It does a lot of the kind of like um doing. It does a lot of the functional work and that frees us up to be plural to be working on all sorts of different things and knowing that everything's kind of moving directionally correct. And it's it is that that actually is meaning that the people who are doing the best, the people who are um feeling like they're in line with the\"),\n",
       " Document(id='f94d71f2-fa93-4a6b-8b04-6f3c423c53a8', metadata={}, page_content=\"conversation AI that replies across platforms, reviews AI that follows up for fivestar reviews, and content AI that writes posts and emails, and a workflow assistant that keeps everything running. It starts at $97 a month. No contracts, no complicated setup. And if you use my link below, you'll get a 30-day trial instead of the usual 14 days. So, if you've been thinking about finally launching or simplifying your business, this is a really good place to start. Do you think in this environment it's easier to make money as a beginner or do you think we're going to struggle with with these people who just graduated and can't find a job? >> It's both. It's the easiest and the worst time. So the reason I say that is there's more money than ever before. There's more opportunities than ever before. You can reach global markets faster than ever before. You can collaborate with people faster than ever before. You can find problems that need solving. We have huge problems. Every industry needs\")]"
      ]
     },
     "execution_count": 12,
     "metadata": {},
     "output_type": "execute_result"
    }
   ],
   "source": [
    "similarity_search_with_vector_store = vector_store.similarity_search(\"what to learn to avoid ai taking my job\",k = 5)\n",
    "similarity_search_with_vector_store"
   ]
  },
  {
   "cell_type": "code",
   "execution_count": 13,
   "id": "9e7fe7bc",
   "metadata": {},
   "outputs": [
    {
     "data": {
      "text/plain": [
       "VectorStoreRetriever(tags=['FAISS', 'HuggingFaceEmbeddings'], vectorstore=<langchain_community.vectorstores.faiss.FAISS object at 0x0000024B70AB2660>, search_kwargs={'k': 5})"
      ]
     },
     "execution_count": 13,
     "metadata": {},
     "output_type": "execute_result"
    }
   ],
   "source": [
    "retriever = vector_store.as_retriever(search_kwargs={\"k\": 5},search_type=\"similarity\")\n",
    "retriever"
   ]
  },
  {
   "cell_type": "code",
   "execution_count": 14,
   "id": "ce24a2b0",
   "metadata": {},
   "outputs": [
    {
     "name": "stderr",
     "output_type": "stream",
     "text": [
      "C:\\Users\\bipra\\AppData\\Local\\Temp\\ipykernel_4484\\3610694979.py:1: LangChainDeprecationWarning: The method `BaseRetriever.get_relevant_documents` was deprecated in langchain-core 0.1.46 and will be removed in 1.0. Use :meth:`~invoke` instead.\n",
      "  retriever.get_relevant_documents(\"what to learn to avoid ai taking my job\")\n"
     ]
    },
    {
     "data": {
      "text/plain": [
       "[Document(id='b0fd947a-5756-40f2-a0b8-1ffdea0af652', metadata={}, page_content=\"a number one, be someone's number two. When I did two years working for this mentor of mine, I just picked up so much. And then I I left at 21. I started my first company when I was 21. We did 1.3 million in the first 12 months. We did 11 million in uh year three. But there's no way I could have gotten off to a fast start if I hadn't have done two years under the wing of a of an experienced entrepreneur. So like whatever your passion is, let's say it's a passion for AI, if you're listening to something like this, then go bring that passion to an experienced entrepreneur and the value exchange is that you're bringing a passion for AI. They're bringing 20, 30 years worth of experience running businesses. So see if you can be a direct report to an entrepreneur first for one to two years. The three things that you want out of that apprenticeship. Self-awareness where you start to discover your strengths and weaknesses. Commercial awareness where you understand how you actually take a\"),\n",
       " Document(id='cdf683ab-db56-426e-b678-f1a463a52f9b', metadata={}, page_content=\"AI over the next five years will probably massively decimate wages and that is because there are always these jobs that are repetitive, functional, annoying, frustrating jobs that we can actually replace. >> Named UK entrepreneur of the year, Daniel Brie has built and scaled multi-million dollar businesses worldwide, generating more than $10 million in revenue. In recent years, he has successfully turned some of them into AIdriven ventures. Today he reveals how AI can give you the edge in a world where jobs are disappearing. We dive into the future work. How to protect your career, stay ahead of automation, and use AI as your unfair advantage. >> There's more money than ever before. There's more opportunities than ever before. So, in theory, it should be the easiest time. The reason it's not the easiest time is because our schooling system is rooted in the industrial age and it's built around getting people ready for factories and offices that no longer exist really. Now, all the\"),\n",
       " Document(id='87d318b2-cc40-49c0-afb6-6f91d2f09b60', metadata={}, page_content=\"a country where you can live pretty large on half the price. >> Yeah. Where do you see the biggest opportunities lie for these people? Maybe the markets that you feel like have these problems like you come and you just make money. Look, >> every industry is going through massive transformation. And in the next 5 years, we're going to see every single industry wanting to upskill uh around AI. They're going to want to disrupt themselves or be disrupted. Um they're going to want to add new elements to their business. Every business is going to want to try and build community. They're going to want to become a more of a media business. uh they're going to want to use AI in their hiring process and in their operational process. They're going to want to put more AI into their marketing uh efforts. The opportunities really are everywhere. Like you couldn't ask for a time like this is a time of massive transformation. But the issue is is that we need to be able to see what is the game that's\"),\n",
       " Document(id='9a29e75a-8169-4152-92ce-e9155d3202d0', metadata={}, page_content=\"land into the city. Now, what's happening at the moment is that everyone feels this pull to be more entrepreneurial. It's like something is pulling me that I have to have a plural career. I've got to be doing a podcast. I've got to be speaking. I've got to be doing a startup. I've got to join a board. I've got to um you know, read the latest entrepreneur books. And it's like, hey, wait a second. When I grew up, everyone said you just have to have a normal career and work for one company. >> But we're feeling the pull towards entrepreneurship. >> So, the thing about AI especially is that it does a lot of automation. It does a lot of the kind of like um doing. It does a lot of the functional work and that frees us up to be plural to be working on all sorts of different things and knowing that everything's kind of moving directionally correct. And it's it is that that actually is meaning that the people who are doing the best, the people who are um feeling like they're in line with the\"),\n",
       " Document(id='f94d71f2-fa93-4a6b-8b04-6f3c423c53a8', metadata={}, page_content=\"conversation AI that replies across platforms, reviews AI that follows up for fivestar reviews, and content AI that writes posts and emails, and a workflow assistant that keeps everything running. It starts at $97 a month. No contracts, no complicated setup. And if you use my link below, you'll get a 30-day trial instead of the usual 14 days. So, if you've been thinking about finally launching or simplifying your business, this is a really good place to start. Do you think in this environment it's easier to make money as a beginner or do you think we're going to struggle with with these people who just graduated and can't find a job? >> It's both. It's the easiest and the worst time. So the reason I say that is there's more money than ever before. There's more opportunities than ever before. You can reach global markets faster than ever before. You can collaborate with people faster than ever before. You can find problems that need solving. We have huge problems. Every industry needs\")]"
      ]
     },
     "execution_count": 14,
     "metadata": {},
     "output_type": "execute_result"
    }
   ],
   "source": [
    "retriever.get_relevant_documents(\"what to learn to avoid ai taking my job\")"
   ]
  },
  {
   "cell_type": "code",
   "execution_count": 15,
   "id": "2ed66abd",
   "metadata": {},
   "outputs": [],
   "source": [
    "qa_template = \"\"\"\n",
    "<|begin_of_text|><|start_header_id|>system<|end_header_id|>\n",
    "You are an expert assistant providing detailed and accurate answers based on the following video content. Your responses should be:\n",
    "1. Precise and free from repetition\n",
    "2. Consistent with the information provided in the video\n",
    "3. Well-organized and easy to understand\n",
    "4. Focused on addressing the user's question directly\n",
    "If you encounter conflicting information in the video content, use your best judgment to provide the most likely correct answer based on context.\n",
    "Note: In the transcript, \"Text\" refers to the spoken words in the video, and \"start\" indicates the timestamp when that part begins in the video.<|eot_id|>\n",
    "\n",
    "<|start_header_id|>user<|end_header_id|>\n",
    "Relevant Video Context: {context}\n",
    "Based on the above context, please answer the following question:\n",
    "{question}<|eot_id|><|start_header_id|>assistant<|end_header_id|>\n",
    "\"\"\""
   ]
  },
  {
   "cell_type": "code",
   "execution_count": 16,
   "id": "fc78d223",
   "metadata": {},
   "outputs": [],
   "source": [
    "from langchain.prompts import PromptTemplate\n",
    "\n",
    "prompt = PromptTemplate(template=qa_template, input_variables=[\"context\", \"question\"])"
   ]
  },
  {
   "cell_type": "code",
   "execution_count": 29,
   "id": "88282ed6",
   "metadata": {},
   "outputs": [],
   "source": [
    "from langchain.chains import RetrievalQA\n",
    "\n",
    "qa_chain = RetrievalQA.from_llm(\n",
    "    llm, retriever= retriever, prompt=prompt,\n",
    ")"
   ]
  },
  {
   "cell_type": "code",
   "execution_count": null,
   "metadata": {},
   "outputs": [
    {
     "name": "stdout",
     "output_type": "stream",
     "text": [
      "{'result': 'To avoid your job being taken over by AI, focus on developing skills and competencies that are difficult for AI to replicate. Here are key areas to prioritize based on the video context:\\n\\n1. **Entrepreneurial and Commercial Awareness**: Gain experience working closely with an experienced entrepreneur to understand business dynamics, decision-making, and how to scale ventures. This includes learning how to identify opportunities, build communities, and integrate AI into various business processes (e.g., marketing, hiring, operations).\\n\\n2. **Self-Awareness and Strengths Development**: Invest time in discovering your unique strengths and weaknesses. AI excels at repetitive tasks, so focus on developing skills that require creativity, emotional intelligence, and strategic thinking.\\n\\n3. **AI Upskilling**: Instead of competing against AI, learn to leverage it as a tool. Understand how AI can be applied in your industry to automate repetitive tasks, freeing you to focus on higher-value, strategic work. Familiarize yourself with AI tools and platforms that can enhance productivity and innovation.\\n\\n4. **Plural Career Mindset**: Embrace a plural career approach by diversifying your skills and interests. Engage in activities like podcasting, speaking, consulting, or joining boards to build a multifaceted professional identity that AI cannot replicate.\\n\\n5. **Problem-Solving and Innovation**: Focus on identifying and solving complex, industry-specific problems. AI is great at optimizing existing processes but struggles with creative problem-solving and innovation. Position yourself as someone who can drive transformation and disruption in your field.\\n\\n6. **Community and Media Building**: Develop skills in building communities and creating engaging content. Businesses are increasingly becoming media-centric, and the ability to connect with audiences and tell compelling stories is a human-centric skill that AI cannot fully replace.\\n\\n7. **Adaptability and Continuous Learning**: Stay ahead of automation by committing to lifelong learning. The schooling system is outdated, so take initiative to upskill in areas like AI, digital marketing, and emerging technologies to remain relevant in a rapidly changing job market.\\n\\nBy focusing on these areas, you can future-proof your career and ensure that AI complements, rather than replaces, your role.'}\n"
     ]
    }
   ],
   "source": [
    "# Use the RetrievalQA chain correctly. RetrievalQA supports .run or .__call__ with a question string.\n",
    "question = \"what to learn to avoid ai taking my job\"\n",
    "# Run the chain and print the answer\n",
    "answer_questions = qa_chain.invoke(question,return_only_outputs=True)\n",
    "print(answer_questions)"
   ]
  },
  {
   "cell_type": "code",
   "execution_count": null,
   "id": "10492666",
   "metadata": {},
   "outputs": [],
   "source": [
    "# manual way "
   ]
  },
  {
   "cell_type": "code",
   "execution_count": 36,
   "metadata": {},
   "outputs": [],
   "source": [
    "question          = \"is the topic of nuclear fusion discussed in this video? if yes then what was discussed\"\n",
    "retrieved_docs    = retriever.invoke(question)\n",
    "context           = \"\\n\".join([doc.page_content for doc in retrieved_docs])\n",
    "answer_questions  = qa_chain.invoke(question,context=context,return_only_outputs=True)"
   ]
  },
  {
   "cell_type": "code",
   "execution_count": 37,
   "metadata": {},
   "outputs": [
    {
     "data": {
      "text/plain": [
       "{'result': 'The topic of nuclear fusion is **not discussed** in the provided video context. The conversation primarily revolves around the impact of AI on jobs, entrepreneurship, and the future of work, with references to historical technological shifts like electricity and the potential for Universal Basic Income (UBI). There is no mention of nuclear fusion or related topics.'}"
      ]
     },
     "execution_count": 37,
     "metadata": {},
     "output_type": "execute_result"
    }
   ],
   "source": [
    "answer_questions"
   ]
  },
  {
   "cell_type": "code",
   "execution_count": null,
   "metadata": {},
   "outputs": [],
   "source": [
    "template = \"\"\"\n",
    "<|begin_of_text|><|start_header_id|>system<|end_header_id|>\n",
    "You are an AI assistant tasked with summarizing YouTube video transcripts. Provide concise, informative summaries that capture the main points of the video content.\n",
    "\n",
    "Instructions:\n",
    "1. Summarize the transcript in a single concise paragraph.\n",
    "2. Ignore any timestamps in your summary.\n",
    "3. Focus on the spoken content (Text) of the video.\n",
    "\n",
    "Note: In the transcript, \"Text\" refers to the spoken words in the video, and \"start\" indicates the timestamp when that part begins in the video.<|eot_id|><|start_header_id|>user<|end_header_id|>\n",
    "Please summarize the following YouTube video transcript:\n",
    "\n",
    "{transcript}<|eot_id|><|start_header_id|>assistant<|end_header_id|>\n",
    "\"\"\"\n",
    "\n",
    "\n",
    "prompt1 = PromptTemplate(template=template, input_variables=[\"transcript\"])\n"
   ]
  },
  {
   "cell_type": "code",
   "execution_count": 44,
   "id": "abffb94e",
   "metadata": {},
   "outputs": [],
   "source": [
    "summary_chain = prompt1 | llm\n",
    "\n",
    "result = summary_chain.invoke({\"transcript\":plain_text},return_only_outputs=True)"
   ]
  },
  {
   "cell_type": "code",
   "execution_count": 45,
   "id": "c6f62e75",
   "metadata": {},
   "outputs": [
    {
     "data": {
      "text/plain": [
       "AIMessage(content='The video features Daniel Brie, a successful entrepreneur and investor, discussing the impact of AI on the future of work and how individuals can adapt and thrive in this rapidly changing landscape. Brie highlights that AI will likely lead to a significant reduction in wages, particularly for repetitive and functional jobs, as these tasks can be automated. He emphasizes that the traditional schooling system, rooted in the industrial age, is ill-equipped to prepare people for the new economy, where entrepreneurship and plural careers are becoming essential. Brie suggests that the most valuable skills in the AI era will be entrepreneurial and soft skills, such as pitching, visioning, ideation, and rapid testing, which enable individuals to spot opportunities, assemble teams, and commercialize ideas quickly. He also stresses the importance of creating value through \"loops\" (completing projects from idea to result) and \"groups\" (building effective teams), which are foundational to entrepreneurial success. Brie advises investing in digital assets like personal brands, media content libraries, and SaaS companies, as these are harder for governments to tax compared to traditional assets like houses and stocks. He also recommends leveraging AI tools like ChatGPT and Repllet for automation and rapid prototyping, and encourages young entrepreneurs to gain experience by working closely with seasoned entrepreneurs before starting their own ventures. Overall, Brie advocates for embracing entrepreneurship, continuous learning, and adaptability to succeed in an AI-driven world.', additional_kwargs={'id': 'd0d0b08e-1182-485f-8d86-4e3cff40e30a', 'finish_reason': 'COMPLETE', 'content': 'The video features Daniel Brie, a successful entrepreneur and investor, discussing the impact of AI on the future of work and how individuals can adapt and thrive in this rapidly changing landscape. Brie highlights that AI will likely lead to a significant reduction in wages, particularly for repetitive and functional jobs, as these tasks can be automated. He emphasizes that the traditional schooling system, rooted in the industrial age, is ill-equipped to prepare people for the new economy, where entrepreneurship and plural careers are becoming essential. Brie suggests that the most valuable skills in the AI era will be entrepreneurial and soft skills, such as pitching, visioning, ideation, and rapid testing, which enable individuals to spot opportunities, assemble teams, and commercialize ideas quickly. He also stresses the importance of creating value through \"loops\" (completing projects from idea to result) and \"groups\" (building effective teams), which are foundational to entrepreneurial success. Brie advises investing in digital assets like personal brands, media content libraries, and SaaS companies, as these are harder for governments to tax compared to traditional assets like houses and stocks. He also recommends leveraging AI tools like ChatGPT and Repllet for automation and rapid prototyping, and encourages young entrepreneurs to gain experience by working closely with seasoned entrepreneurs before starting their own ventures. Overall, Brie advocates for embracing entrepreneurship, continuous learning, and adaptability to succeed in an AI-driven world.', 'token_count': {'input_tokens': 13648.0, 'output_tokens': 279.0}}, response_metadata={'id': 'd0d0b08e-1182-485f-8d86-4e3cff40e30a', 'finish_reason': 'COMPLETE', 'content': 'The video features Daniel Brie, a successful entrepreneur and investor, discussing the impact of AI on the future of work and how individuals can adapt and thrive in this rapidly changing landscape. Brie highlights that AI will likely lead to a significant reduction in wages, particularly for repetitive and functional jobs, as these tasks can be automated. He emphasizes that the traditional schooling system, rooted in the industrial age, is ill-equipped to prepare people for the new economy, where entrepreneurship and plural careers are becoming essential. Brie suggests that the most valuable skills in the AI era will be entrepreneurial and soft skills, such as pitching, visioning, ideation, and rapid testing, which enable individuals to spot opportunities, assemble teams, and commercialize ideas quickly. He also stresses the importance of creating value through \"loops\" (completing projects from idea to result) and \"groups\" (building effective teams), which are foundational to entrepreneurial success. Brie advises investing in digital assets like personal brands, media content libraries, and SaaS companies, as these are harder for governments to tax compared to traditional assets like houses and stocks. He also recommends leveraging AI tools like ChatGPT and Repllet for automation and rapid prototyping, and encourages young entrepreneurs to gain experience by working closely with seasoned entrepreneurs before starting their own ventures. Overall, Brie advocates for embracing entrepreneurship, continuous learning, and adaptability to succeed in an AI-driven world.', 'token_count': {'input_tokens': 13648.0, 'output_tokens': 279.0}}, id='run--60ed14bb-c8b8-4d62-8e49-0c9b93ab9a89-0', usage_metadata={'input_tokens': 13648, 'output_tokens': 279, 'total_tokens': 13927})"
      ]
     },
     "execution_count": 45,
     "metadata": {},
     "output_type": "execute_result"
    }
   ],
   "source": [
    "result"
   ]
  },
  {
   "cell_type": "code",
   "execution_count": null,
   "id": "b82441ce",
   "metadata": {},
   "outputs": [],
   "source": []
  },
  {
   "cell_type": "code",
   "execution_count": null,
   "id": "83fc9b61",
   "metadata": {},
   "outputs": [],
   "source": [
    "# # parallel chain . 1 chain to invoke the qa chain and 1 chain to invoke the summarization chain\n",
    "# from langchain.chains import SequentialChain\n",
    "\n",
    "# parallel_chain = SequentialChain(\n",
    "#     chains=[qa_chain, combined_document_chain], input_variables=[\"question\"], output_variables=[\"answer\"]\n",
    "# )\n",
    "# # CELL:\n",
    "# parallel_chain({\"question\": \"what to learn to avoid ai taking my job\"})\n"
   ]
  }
 ],
 "metadata": {
  "kernelspec": {
   "display_name": "venv",
   "language": "python",
   "name": "python3"
  },
  "language_info": {
   "codemirror_mode": {
    "name": "ipython",
    "version": 3
   },
   "file_extension": ".py",
   "mimetype": "text/x-python",
   "name": "python",
   "nbconvert_exporter": "python",
   "pygments_lexer": "ipython3",
   "version": "3.12.10"
  }
 },
 "nbformat": 4,
 "nbformat_minor": 5
}
